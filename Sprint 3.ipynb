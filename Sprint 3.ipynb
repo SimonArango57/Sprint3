{
  "nbformat": 4,
  "nbformat_minor": 0,
  "metadata": {
    "colab": {
      "provenance": []
    },
    "kernelspec": {
      "name": "python3",
      "display_name": "Python 3"
    },
    "language_info": {
      "name": "python"
    }
  },
  "cells": [
    {
      "cell_type": "code",
      "source": [
        "def saludar_multiples(nombres):\n",
        "  \"\"\"\n",
        "  Saluda a cada nombre en una lista de nombres.\n",
        "\n",
        "  Args:\n",
        "    nombres: Una lista de cadenas de texto, donde cada cadena es un nombre.\n",
        "  \"\"\"\n",
        "  for nombre in nombres:\n",
        "    print(f\"¡Hola, {nombre}!\")\n",
        "\n",
        "# Ejemplos de uso:\n",
        "if __name__ == \"__main__\":\n",
        "  lista_nombres1 = ['Alicia', 'Roberto', 'Carlos']\n",
        "  saludar_multiples(lista_nombres1)\n",
        "\n",
        "  print(\"\\n---\") # Separador para mayor claridad\n",
        "\n",
        "  lista_nombres2 = ['David', 'Eva']\n",
        "  saludar_multiples(lista_nombres2)"
      ],
      "metadata": {
        "id": "KUY0O1T5dzsW"
      },
      "execution_count": null,
      "outputs": []
    }
  ]
}